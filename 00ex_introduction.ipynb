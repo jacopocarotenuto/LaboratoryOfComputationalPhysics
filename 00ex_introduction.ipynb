{
 "cells": [
  {
   "cell_type": "markdown",
   "metadata": {},
   "source": [
    "1. The MickeyMouse problem\n",
    "\n",
    "a) Write a program that prints the numbers from 1 to 100. But for multiples of 3 print `Mickey` instead of the corresponding number and for the multiples of 5 print `Mouse`. For numbers which are multiples of both three and five print `MickeyMouse`\n",
    "\n",
    "b) Put the result in a tuple and substitute `Mickey` with `Donald` and `Mouse` with `Duck`"
   ]
  },
  {
   "cell_type": "code",
   "execution_count": null,
   "metadata": {},
   "outputs": [],
   "source": [
    "temp = []\n",
    "for i in range(1,100):\n",
    "    if (i % 15) == 0:\n",
    "        temp.append(\"MickeyMouse\")\n",
    "        print(\"MickeyMouse\")\n",
    "    elif (i % 3) == 0:\n",
    "        temp.append(\"Mickey\")\n",
    "        print(\"Mickey\")\n",
    "    elif (i % 5) == 0:\n",
    "        temp.append(\"Mouse\")\n",
    "        print(\"Mouse\")\n",
    "    else:\n",
    "        temp.append(i)\n",
    "        print(i)\n",
    "for i in range(0,len(temp)):\n",
    "    if temp[i] == \"MickeyMouse\":\n",
    "        temp[i] = \"DonaldDuck\"\n",
    "    elif temp[i] == \"Mickey\":\n",
    "        temp[i] = \"Donald\"\n",
    "    elif temp[i] == \"Mouse\":\n",
    "        temp[i] = \"Duck\"\n",
    "              \n",
    "temp = tuple(temp)\n",
    "print(temp)"
   ]
  },
  {
   "cell_type": "markdown",
   "metadata": {},
   "source": [
    "2\\. The swap function\n",
    "\n",
    "Write a function that swap the values of two input variables x and y (whatever the type). Try to do that also without a temporary variable"
   ]
  },
  {
   "cell_type": "code",
   "execution_count": null,
   "metadata": {},
   "outputs": [],
   "source": [
    "def Swap(x,y):\n",
    "    x,y = y,x\n",
    "    return x,y\n",
    "a = 1\n",
    "b = 2\n",
    "a,b = Swap(a,b)\n",
    "print(a,b)"
   ]
  },
  {
   "cell_type": "markdown",
   "metadata": {},
   "source": [
    "3\\. Computing the distance\n",
    "\n",
    "Write a function that calculates and returns the euclidean distance between two points *u* and *v*, where *u* and *v* are both 2-tuples *(x,y)*. For example, if *u=(3,0)* and *v=(0,4)*, the function should return 5"
   ]
  },
  {
   "cell_type": "code",
   "execution_count": null,
   "metadata": {},
   "outputs": [],
   "source": [
    "import math\n",
    "def euclidianDistance(u,v):\n",
    "    dis = math.sqrt((u[0]-v[0])**2 + (u[1] - v[1])**2)\n",
    "    return dis\n",
    "print(\"The distance is: \", euclidianDistance((3,0),(0,4)))"
   ]
  },
  {
   "cell_type": "markdown",
   "metadata": {},
   "source": [
    "4\\. Counting letters\n",
    "\n",
    "Write a program to calculate the number of times each character occurs in a given string *s*. Ignore differneces in capitalization"
   ]
  },
  {
   "cell_type": "code",
   "execution_count": null,
   "metadata": {},
   "outputs": [],
   "source": [
    "s=\"Write a program that prints the numbers from 1 to 100. \\\n",
    "But for multiples of three print Mickey instead of the number and for the multiples of five print Mouse. \\\n",
    "For numbers which are multiples of both three and five print MickeyMouse\"\n",
    "\n",
    "s = s.lower()\n",
    "uniques = list(set(list(s)))\n",
    "for char in uniques:\n",
    "    print(char,\": \",s.count(char))"
   ]
  },
  {
   "cell_type": "markdown",
   "metadata": {},
   "source": [
    "5\\. Isolating the unique\n",
    "\n",
    "Write a function that determines and count the unique numbers in the list *l*"
   ]
  },
  {
   "cell_type": "code",
   "execution_count": 1,
   "metadata": {},
   "outputs": [
    {
     "name": "stdout",
     "output_type": "stream",
     "text": [
      "1 :  1\n",
      "3 :  2\n",
      "5 :  1\n",
      "8 :  1\n",
      "9 :  1\n",
      "10 :  1\n",
      "16 :  1\n",
      "18 :  1\n",
      "19 :  1\n",
      "20 :  3\n",
      "24 :  1\n",
      "30 :  1\n",
      "31 :  2\n",
      "33 :  1\n",
      "34 :  2\n",
      "36 :  3\n",
      "37 :  1\n",
      "39 :  1\n",
      "41 :  1\n",
      "42 :  2\n",
      "45 :  3\n",
      "47 :  1\n",
      "50 :  2\n",
      "51 :  3\n",
      "53 :  1\n",
      "54 :  1\n",
      "55 :  1\n",
      "56 :  2\n",
      "57 :  1\n",
      "58 :  1\n",
      "63 :  2\n",
      "64 :  1\n",
      "66 :  2\n",
      "70 :  3\n",
      "72 :  1\n",
      "74 :  1\n",
      "75 :  1\n",
      "79 :  1\n",
      "81 :  1\n",
      "82 :  1\n",
      "84 :  4\n",
      "85 :  3\n",
      "86 :  1\n",
      "87 :  1\n",
      "88 :  1\n",
      "89 :  2\n",
      "90 :  1\n",
      "91 :  3\n",
      "92 :  1\n",
      "94 :  1\n",
      "95 :  1\n",
      "96 :  1\n",
      "98 :  1\n",
      "99 :  1\n"
     ]
    }
   ],
   "source": [
    "l = [36, 45, 58, 3, 74, 96, 64, 45, 31, 10, 24, 19, 33, 86, 99, 18, 63, 70, 85,\n",
    " 85, 63, 47, 56, 42, 70, 84, 88, 55, 20, 54, 8, 56, 51, 79, 81, 57, 37, 91,\n",
    " 1, 84, 84, 36, 66, 9, 89, 50, 42, 91, 50, 95, 90, 98, 39, 16, 82, 31, 92, 41,\n",
    " 45, 30, 66, 70, 34, 85, 94, 5, 3, 36, 72, 91, 84, 34, 87, 75, 53, 51, 20, 89, 51, 20]\n",
    "uniques = list(set(l))\n",
    "for num in uniques:\n",
    "    print(num,\": \",l.count(num))"
   ]
  },
  {
   "cell_type": "markdown",
   "metadata": {},
   "source": [
    "6\\. Combination of functions\n",
    "\n",
    "Write two functions - one that returns the square of a number, and one that returns the cube. Now write a third function that returns the number raised to the 6th power using the two previous functions."
   ]
  },
  {
   "cell_type": "code",
   "execution_count": 32,
   "metadata": {},
   "outputs": [],
   "source": [
    "def square(x):\n",
    "    return x**2\n",
    "def cube(x):\n",
    "    return x**3\n",
    "def six(x):\n",
    "    return square(cube(x))"
   ]
  },
  {
   "cell_type": "markdown",
   "metadata": {},
   "source": [
    "7\\. Cubes\n",
    "\n",
    "Create a list of the cubes of x for x in *[0, 10]* using:\n",
    "\n",
    "a) a for loop\n",
    "\n",
    "b) a list comprehension"
   ]
  },
  {
   "cell_type": "code",
   "execution_count": 33,
   "metadata": {},
   "outputs": [],
   "source": [
    "for_list = []\n",
    "for i in range(0,10):\n",
    "    for_list.append(i**3)\n",
    "for_comp = [x**3 for x in range(0,10)]"
   ]
  },
  {
   "cell_type": "markdown",
   "metadata": {},
   "source": [
    "8\\. Nested list comprehension\n",
    "\n",
    "A Pythagorean triple is an integer solution to the Pythagorean theorem $a^2+b^2=c^2$. The first Pythagorean triple is (3,4,5). Find and put in a tuple all unique Pythagorean triples for the positive integers a, b and c less than 100."
   ]
  },
  {
   "cell_type": "code",
   "execution_count": 2,
   "metadata": {},
   "outputs": [
    {
     "name": "stdout",
     "output_type": "stream",
     "text": [
      "[[3, 4, 5], [5, 12, 13], [6, 8, 10], [7, 24, 25], [8, 15, 17], [9, 12, 15], [9, 40, 41], [10, 24, 26], [11, 60, 61], [12, 16, 20], [12, 35, 37], [13, 84, 85], [14, 48, 50], [15, 20, 25], [15, 36, 39], [16, 30, 34], [16, 63, 65], [18, 24, 30], [18, 80, 82], [20, 21, 29], [20, 48, 52], [21, 28, 35], [21, 72, 75], [24, 32, 40], [24, 45, 51], [24, 70, 74], [25, 60, 65], [27, 36, 45], [28, 45, 53], [30, 40, 50], [30, 72, 78], [32, 60, 68], [33, 44, 55], [33, 56, 65], [35, 84, 91], [36, 48, 60], [36, 77, 85], [39, 52, 65], [39, 80, 89], [40, 42, 58], [40, 75, 85], [42, 56, 70], [45, 60, 75], [48, 55, 73], [48, 64, 80], [51, 68, 85], [54, 72, 90], [57, 76, 95], [60, 63, 87], [65, 72, 97]]\n"
     ]
    }
   ],
   "source": [
    "import math\n",
    "triples = []\n",
    "for i in range(1,100):\n",
    "    for j in range(i,100):\n",
    "        if (i**2 + j**2) < 100**2:\n",
    "            if (math.sqrt(i**2 + j**2) % 1) == 0:\n",
    "                triples.append([i,j,int(math.sqrt(i**2+j**2))]) \n",
    "print(triples)"
   ]
  },
  {
   "cell_type": "markdown",
   "metadata": {},
   "source": [
    "9\\. Normalization\n",
    "\n",
    "Write a function that takes a tuple of numbers and returns it with the entries normalized to one"
   ]
  },
  {
   "cell_type": "code",
   "execution_count": 43,
   "metadata": {},
   "outputs": [],
   "source": [
    "def myNorm(x):\n",
    "    return (x[1]/(x[1] + x[2]),x[2]/(x[1] + x[2]))"
   ]
  },
  {
   "cell_type": "code",
   "execution_count": null,
   "metadata": {},
   "outputs": [],
   "source": []
  }
 ],
 "metadata": {
  "kernelspec": {
   "display_name": "Python 3 (ipykernel)",
   "language": "python",
   "name": "python3"
  },
  "language_info": {
   "codemirror_mode": {
    "name": "ipython",
    "version": 3
   },
   "file_extension": ".py",
   "mimetype": "text/x-python",
   "name": "python",
   "nbconvert_exporter": "python",
   "pygments_lexer": "ipython3",
   "version": "3.9.18"
  }
 },
 "nbformat": 4,
 "nbformat_minor": 2
}
